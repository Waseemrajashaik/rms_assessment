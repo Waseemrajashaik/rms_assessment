{
 "cells": [
  {
   "cell_type": "code",
   "execution_count": 1,
   "metadata": {},
   "outputs": [],
   "source": [
    "import pandas as pd\n",
    "import os"
   ]
  },
  {
   "cell_type": "code",
   "execution_count": 2,
   "metadata": {},
   "outputs": [],
   "source": [
    "data_url = 'https://earthquake.usgs.gov/earthquakes/feed/v1.0/summary/all_month.csv'"
   ]
  },
  {
   "cell_type": "code",
   "execution_count": 3,
   "metadata": {},
   "outputs": [
    {
     "name": "stdout",
     "output_type": "stream",
     "text": [
      "Original dataset shape: (9605, 22)\n"
     ]
    }
   ],
   "source": [
    "df = pd.read_csv(data_url)\n",
    "print(\"Original dataset shape:\", df.shape)"
   ]
  },
  {
   "cell_type": "code",
   "execution_count": 4,
   "metadata": {},
   "outputs": [
    {
     "data": {
      "text/html": [
       "<div>\n",
       "<style scoped>\n",
       "    .dataframe tbody tr th:only-of-type {\n",
       "        vertical-align: middle;\n",
       "    }\n",
       "\n",
       "    .dataframe tbody tr th {\n",
       "        vertical-align: top;\n",
       "    }\n",
       "\n",
       "    .dataframe thead th {\n",
       "        text-align: right;\n",
       "    }\n",
       "</style>\n",
       "<table border=\"1\" class=\"dataframe\">\n",
       "  <thead>\n",
       "    <tr style=\"text-align: right;\">\n",
       "      <th></th>\n",
       "      <th>time</th>\n",
       "      <th>latitude</th>\n",
       "      <th>longitude</th>\n",
       "      <th>depth</th>\n",
       "      <th>mag</th>\n",
       "      <th>magType</th>\n",
       "      <th>nst</th>\n",
       "      <th>gap</th>\n",
       "      <th>dmin</th>\n",
       "      <th>rms</th>\n",
       "      <th>...</th>\n",
       "      <th>updated</th>\n",
       "      <th>place</th>\n",
       "      <th>type</th>\n",
       "      <th>horizontalError</th>\n",
       "      <th>depthError</th>\n",
       "      <th>magError</th>\n",
       "      <th>magNst</th>\n",
       "      <th>status</th>\n",
       "      <th>locationSource</th>\n",
       "      <th>magSource</th>\n",
       "    </tr>\n",
       "  </thead>\n",
       "  <tbody>\n",
       "    <tr>\n",
       "      <th>0</th>\n",
       "      <td>2025-03-26T04:09:38.404Z</td>\n",
       "      <td>59.844600</td>\n",
       "      <td>-152.290100</td>\n",
       "      <td>72.30</td>\n",
       "      <td>1.40</td>\n",
       "      <td>ml</td>\n",
       "      <td>NaN</td>\n",
       "      <td>NaN</td>\n",
       "      <td>NaN</td>\n",
       "      <td>0.39</td>\n",
       "      <td>...</td>\n",
       "      <td>2025-03-26T04:11:25.482Z</td>\n",
       "      <td>26 km WNW of Anchor Point, Alaska</td>\n",
       "      <td>earthquake</td>\n",
       "      <td>NaN</td>\n",
       "      <td>1.200</td>\n",
       "      <td>NaN</td>\n",
       "      <td>NaN</td>\n",
       "      <td>automatic</td>\n",
       "      <td>ak</td>\n",
       "      <td>ak</td>\n",
       "    </tr>\n",
       "    <tr>\n",
       "      <th>1</th>\n",
       "      <td>2025-03-26T04:08:31.640Z</td>\n",
       "      <td>38.844166</td>\n",
       "      <td>-122.824165</td>\n",
       "      <td>1.79</td>\n",
       "      <td>0.74</td>\n",
       "      <td>md</td>\n",
       "      <td>11.0</td>\n",
       "      <td>124.0</td>\n",
       "      <td>0.01045</td>\n",
       "      <td>0.01</td>\n",
       "      <td>...</td>\n",
       "      <td>2025-03-26T04:10:09.922Z</td>\n",
       "      <td>9 km WNW of Cobb, CA</td>\n",
       "      <td>earthquake</td>\n",
       "      <td>0.29</td>\n",
       "      <td>0.860</td>\n",
       "      <td>0.070</td>\n",
       "      <td>15.0</td>\n",
       "      <td>automatic</td>\n",
       "      <td>nc</td>\n",
       "      <td>nc</td>\n",
       "    </tr>\n",
       "    <tr>\n",
       "      <th>2</th>\n",
       "      <td>2025-03-26T04:06:10.400Z</td>\n",
       "      <td>38.797668</td>\n",
       "      <td>-122.782333</td>\n",
       "      <td>4.00</td>\n",
       "      <td>0.28</td>\n",
       "      <td>md</td>\n",
       "      <td>11.0</td>\n",
       "      <td>87.0</td>\n",
       "      <td>0.01444</td>\n",
       "      <td>0.03</td>\n",
       "      <td>...</td>\n",
       "      <td>2025-03-26T04:07:45.910Z</td>\n",
       "      <td>3 km NNW of The Geysers, CA</td>\n",
       "      <td>earthquake</td>\n",
       "      <td>0.50</td>\n",
       "      <td>1.420</td>\n",
       "      <td>0.050</td>\n",
       "      <td>11.0</td>\n",
       "      <td>automatic</td>\n",
       "      <td>nc</td>\n",
       "      <td>nc</td>\n",
       "    </tr>\n",
       "    <tr>\n",
       "      <th>3</th>\n",
       "      <td>2025-03-26T04:05:53.320Z</td>\n",
       "      <td>38.838833</td>\n",
       "      <td>-122.808334</td>\n",
       "      <td>2.00</td>\n",
       "      <td>0.66</td>\n",
       "      <td>md</td>\n",
       "      <td>8.0</td>\n",
       "      <td>85.0</td>\n",
       "      <td>0.01406</td>\n",
       "      <td>0.01</td>\n",
       "      <td>...</td>\n",
       "      <td>2025-03-26T04:07:30.919Z</td>\n",
       "      <td>8 km WNW of Cobb, CA</td>\n",
       "      <td>earthquake</td>\n",
       "      <td>0.51</td>\n",
       "      <td>1.540</td>\n",
       "      <td>0.310</td>\n",
       "      <td>8.0</td>\n",
       "      <td>automatic</td>\n",
       "      <td>nc</td>\n",
       "      <td>nc</td>\n",
       "    </tr>\n",
       "    <tr>\n",
       "      <th>4</th>\n",
       "      <td>2025-03-26T03:48:49.152Z</td>\n",
       "      <td>-10.011800</td>\n",
       "      <td>160.586800</td>\n",
       "      <td>10.00</td>\n",
       "      <td>5.00</td>\n",
       "      <td>mb</td>\n",
       "      <td>51.0</td>\n",
       "      <td>74.0</td>\n",
       "      <td>0.85000</td>\n",
       "      <td>0.80</td>\n",
       "      <td>...</td>\n",
       "      <td>2025-03-26T04:16:49.040Z</td>\n",
       "      <td>94 km SE of Honiara, Solomon Islands</td>\n",
       "      <td>earthquake</td>\n",
       "      <td>4.50</td>\n",
       "      <td>1.857</td>\n",
       "      <td>0.057</td>\n",
       "      <td>98.0</td>\n",
       "      <td>reviewed</td>\n",
       "      <td>us</td>\n",
       "      <td>us</td>\n",
       "    </tr>\n",
       "  </tbody>\n",
       "</table>\n",
       "<p>5 rows × 22 columns</p>\n",
       "</div>"
      ],
      "text/plain": [
       "                       time   latitude   longitude  depth   mag magType   nst  \\\n",
       "0  2025-03-26T04:09:38.404Z  59.844600 -152.290100  72.30  1.40      ml   NaN   \n",
       "1  2025-03-26T04:08:31.640Z  38.844166 -122.824165   1.79  0.74      md  11.0   \n",
       "2  2025-03-26T04:06:10.400Z  38.797668 -122.782333   4.00  0.28      md  11.0   \n",
       "3  2025-03-26T04:05:53.320Z  38.838833 -122.808334   2.00  0.66      md   8.0   \n",
       "4  2025-03-26T03:48:49.152Z -10.011800  160.586800  10.00  5.00      mb  51.0   \n",
       "\n",
       "     gap     dmin   rms  ...                   updated  \\\n",
       "0    NaN      NaN  0.39  ...  2025-03-26T04:11:25.482Z   \n",
       "1  124.0  0.01045  0.01  ...  2025-03-26T04:10:09.922Z   \n",
       "2   87.0  0.01444  0.03  ...  2025-03-26T04:07:45.910Z   \n",
       "3   85.0  0.01406  0.01  ...  2025-03-26T04:07:30.919Z   \n",
       "4   74.0  0.85000  0.80  ...  2025-03-26T04:16:49.040Z   \n",
       "\n",
       "                                  place        type horizontalError  \\\n",
       "0     26 km WNW of Anchor Point, Alaska  earthquake             NaN   \n",
       "1                  9 km WNW of Cobb, CA  earthquake            0.29   \n",
       "2           3 km NNW of The Geysers, CA  earthquake            0.50   \n",
       "3                  8 km WNW of Cobb, CA  earthquake            0.51   \n",
       "4  94 km SE of Honiara, Solomon Islands  earthquake            4.50   \n",
       "\n",
       "  depthError  magError  magNst     status  locationSource magSource  \n",
       "0      1.200       NaN     NaN  automatic              ak        ak  \n",
       "1      0.860     0.070    15.0  automatic              nc        nc  \n",
       "2      1.420     0.050    11.0  automatic              nc        nc  \n",
       "3      1.540     0.310     8.0  automatic              nc        nc  \n",
       "4      1.857     0.057    98.0   reviewed              us        us  \n",
       "\n",
       "[5 rows x 22 columns]"
      ]
     },
     "metadata": {},
     "output_type": "display_data"
    }
   ],
   "source": [
    "display(df.head())"
   ]
  },
  {
   "cell_type": "code",
   "execution_count": 5,
   "metadata": {},
   "outputs": [
    {
     "name": "stdout",
     "output_type": "stream",
     "text": [
      "Converted 'time' column to datetime.\n"
     ]
    }
   ],
   "source": [
    "if 'time' in df.columns:\n",
    "    df['time'] = pd.to_datetime(df['time'])\n",
    "    print(\"Converted 'time' column to datetime.\")"
   ]
  },
  {
   "cell_type": "code",
   "execution_count": 6,
   "metadata": {},
   "outputs": [
    {
     "name": "stdout",
     "output_type": "stream",
     "text": [
      "Removed 2220 rows with missing values.\n",
      "Dataset shape after dropping missing values: (7385, 22)\n"
     ]
    }
   ],
   "source": [
    "before_drop = df.shape[0]\n",
    "df.dropna(inplace=True)\n",
    "after_drop = df.shape[0]\n",
    "print(f\"Removed {before_drop - after_drop} rows with missing values.\")\n",
    "print(\"Dataset shape after dropping missing values:\", df.shape)"
   ]
  },
  {
   "cell_type": "code",
   "execution_count": 7,
   "metadata": {},
   "outputs": [],
   "source": [
    "df.rename(columns={'mag': 'magnitude'}, inplace=True)"
   ]
  },
  {
   "cell_type": "code",
   "execution_count": 8,
   "metadata": {},
   "outputs": [],
   "source": [
    "schema = {\n",
    "    \"id\": str,\n",
    "    \"time\": str,\n",
    "    \"latitude\": float,\n",
    "    \"longitude\": float,\n",
    "    \"depth\": float,\n",
    "    \"magnitude\": float,\n",
    "    \"place\": str,\n",
    "    \"type\": str,\n",
    "    \"status\": str,\n",
    "    \"tsunami\": float,\n",
    "    \"sig\": float,\n",
    "    \"net\": str,\n",
    "    \"code\": str,\n",
    "    \"nst\": float,\n",
    "    \"dmin\": float,\n",
    "    \"rms\": float,\n",
    "    \"gap\": float,\n",
    "    \"magType\": str,\n",
    "    \"alert\": str,\n",
    "    \"horizontalError\": float,\n",
    "    \"depthError\": float,\n",
    "    \"magError\": float,\n",
    "    \"magNst\": float,\n",
    "    \"updated\": str,\n",
    "    \"locationSource\": str,\n",
    "    \"magSource\": str\n",
    "}\n"
   ]
  },
  {
   "cell_type": "code",
   "execution_count": 9,
   "metadata": {},
   "outputs": [
    {
     "name": "stdout",
     "output_type": "stream",
     "text": [
      "Added missing column 'tsunami' with default value 0.\n",
      "Added missing column 'sig' with default value 0.\n",
      "Added missing column 'code' with default value .\n",
      "Added missing column 'alert' with default value .\n"
     ]
    }
   ],
   "source": [
    "for col, dtype in schema.items():\n",
    "    if col not in df.columns:\n",
    "        # For numeric types, set default to 0; for strings, set default to empty string.\n",
    "        default_value = 0 if dtype in [float, int] else \"\"\n",
    "        df[col] = default_value\n",
    "        print(f\"Added missing column '{col}' with default value {default_value}.\")"
   ]
  },
  {
   "cell_type": "code",
   "execution_count": 10,
   "metadata": {},
   "outputs": [
    {
     "name": "stdout",
     "output_type": "stream",
     "text": [
      "Columns reordered based on the provided schema.\n"
     ]
    }
   ],
   "source": [
    "ordered_cols = list(schema.keys())\n",
    "df = df[ordered_cols]\n",
    "print(\"Columns reordered based on the provided schema.\")"
   ]
  },
  {
   "cell_type": "code",
   "execution_count": 11,
   "metadata": {},
   "outputs": [
    {
     "name": "stdout",
     "output_type": "stream",
     "text": [
      "Directory 'public/earthquakes' is ready.\n"
     ]
    }
   ],
   "source": [
    "output_dir = \"public/earthquakes\"\n",
    "os.makedirs(output_dir, exist_ok=True)\n",
    "print(f\"Directory '{output_dir}' is ready.\")"
   ]
  },
  {
   "cell_type": "code",
   "execution_count": 12,
   "metadata": {},
   "outputs": [
    {
     "name": "stdout",
     "output_type": "stream",
     "text": [
      "Processed data saved to public/earthquakes/processed_all_month.csv\n"
     ]
    }
   ],
   "source": [
    "processed_csv_path = os.path.join(output_dir, \"processed_all_month.csv\")\n",
    "df.to_csv(processed_csv_path, index=False)\n",
    "print(f\"Processed data saved to {processed_csv_path}\")"
   ]
  },
  {
   "cell_type": "code",
   "execution_count": 13,
   "metadata": {},
   "outputs": [
    {
     "name": "stdout",
     "output_type": "stream",
     "text": [
      "Preview of JSON output (first 500 characters):\n",
      "[{\"id\":\"nc75155422\",\"time\":1742962111640,\"latitude\":38.844165802,\"longitude\":-122.8241653442,\"depth\":1.7899999619,\"magnitude\":0.74,\"place\":\"9 km WNW of Cobb, CA\",\"type\":\"earthquake\",\"status\":\"automatic\",\"tsunami\":0,\"sig\":0,\"net\":\"nc\",\"code\":\"\",\"nst\":11.0,\"dmin\":0.01045,\"rms\":0.01,\"gap\":124.0,\"magType\":\"md\",\"alert\":\"\",\"horizontalError\":0.29,\"depthError\":0.860000014,\"magError\":0.07,\"magNst\":15.0,\"updated\":\"2025-03-26T04:10:09.922Z\",\"locationSource\":\"nc\",\"magSource\":\"nc\"},{\"id\":\"nc75155417\",\"time\":\n"
     ]
    }
   ],
   "source": [
    "data_json = df.to_json(orient='records')\n",
    "print(\"Preview of JSON output (first 500 characters):\")\n",
    "print(data_json[:500])"
   ]
  },
  {
   "cell_type": "code",
   "execution_count": null,
   "metadata": {},
   "outputs": [],
   "source": []
  }
 ],
 "metadata": {
  "kernelspec": {
   "display_name": "env_system",
   "language": "python",
   "name": "python3"
  },
  "language_info": {
   "codemirror_mode": {
    "name": "ipython",
    "version": 3
   },
   "file_extension": ".py",
   "mimetype": "text/x-python",
   "name": "python",
   "nbconvert_exporter": "python",
   "pygments_lexer": "ipython3",
   "version": "3.12.9"
  }
 },
 "nbformat": 4,
 "nbformat_minor": 2
}
